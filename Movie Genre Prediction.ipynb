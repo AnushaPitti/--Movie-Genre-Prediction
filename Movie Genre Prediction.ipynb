{
 "cells": [
  {
   "cell_type": "raw",
   "id": "929791d8-5ad1-4551-94a6-fd0d84ecc518",
   "metadata": {},
   "source": [
    "Project ID - #CC69848\n",
    "Project Title - Movie Genre Prediction"
   ]
  },
  {
   "cell_type": "markdown",
   "id": "399269ac-4424-4e68-8a33-3b09e92ae546",
   "metadata": {},
   "source": [
    "## Project DetailsAim -\n",
    "#### Predict the genre of a movie based on its plot summary and other features.\n",
    "#### Description - Use natural language processing (NLP) techniques for text classification on a movie dataset.\n",
    "#### Technologies - Python, NLTK or SpaCy, Scikit-learn.\n"
   ]
  },
  {
   "cell_type": "code",
   "execution_count": 9,
   "id": "4ef7fdf2-e74c-4e9d-86d7-365cd4ffbcd5",
   "metadata": {},
   "outputs": [
    {
     "name": "stderr",
     "output_type": "stream",
     "text": [
      "[nltk_data] Downloading package stopwords to\n",
      "[nltk_data]     C:\\Users\\HP\\AppData\\Roaming\\nltk_data...\n",
      "[nltk_data]   Package stopwords is already up-to-date!\n"
     ]
    },
    {
     "data": {
      "text/plain": [
       "True"
      ]
     },
     "execution_count": 9,
     "metadata": {},
     "output_type": "execute_result"
    }
   ],
   "source": [
    "# Step 1: Import Libraries\n",
    "import pandas as pd\n",
    "import numpy as np\n",
    "import nltk\n",
    "from nltk.corpus import stopwords\n",
    "from nltk.stem import PorterStemmer\n",
    "from sklearn.feature_extraction.text import TfidfVectorizer\n",
    "from sklearn.model_selection import train_test_split\n",
    "from sklearn.linear_model import LogisticRegression\n",
    "from sklearn.metrics import classification_report, accuracy_score, confusion_matrix\n",
    "import seaborn as sns\n",
    "import matplotlib.pyplot as plt\n",
    "from io import StringIO\n",
    "\n",
    "import warnings\n",
    "warnings.filterwarnings(\"ignore\")\n",
    "# Download required resources\n",
    "nltk.download('stopwords')\n"
   ]
  },
  {
   "cell_type": "code",
   "execution_count": 10,
   "id": "feed3d20-fa13-45a7-b1e7-42892c22bac6",
   "metadata": {},
   "outputs": [
    {
     "data": {
      "text/html": [
       "<div>\n",
       "<style scoped>\n",
       "    .dataframe tbody tr th:only-of-type {\n",
       "        vertical-align: middle;\n",
       "    }\n",
       "\n",
       "    .dataframe tbody tr th {\n",
       "        vertical-align: top;\n",
       "    }\n",
       "\n",
       "    .dataframe thead th {\n",
       "        text-align: right;\n",
       "    }\n",
       "</style>\n",
       "<table border=\"1\" class=\"dataframe\">\n",
       "  <thead>\n",
       "    <tr style=\"text-align: right;\">\n",
       "      <th></th>\n",
       "      <th>plot</th>\n",
       "      <th>genre</th>\n",
       "    </tr>\n",
       "  </thead>\n",
       "  <tbody>\n",
       "    <tr>\n",
       "      <th>0</th>\n",
       "      <td>A young boy discovers he is a wizard and atten...</td>\n",
       "      <td>Fantasy</td>\n",
       "    </tr>\n",
       "    <tr>\n",
       "      <th>1</th>\n",
       "      <td>A team of astronauts travel through a wormhole...</td>\n",
       "      <td>Sci-Fi</td>\n",
       "    </tr>\n",
       "    <tr>\n",
       "      <th>2</th>\n",
       "      <td>A detective investigates a series of murders i...</td>\n",
       "      <td>Thriller</td>\n",
       "    </tr>\n",
       "    <tr>\n",
       "      <th>3</th>\n",
       "      <td>A couple falls in love during a war and strugg...</td>\n",
       "      <td>Romance</td>\n",
       "    </tr>\n",
       "    <tr>\n",
       "      <th>4</th>\n",
       "      <td>A hilarious story of a man who gets stuck in a...</td>\n",
       "      <td>Comedy</td>\n",
       "    </tr>\n",
       "  </tbody>\n",
       "</table>\n",
       "</div>"
      ],
      "text/plain": [
       "                                                plot     genre\n",
       "0  A young boy discovers he is a wizard and atten...   Fantasy\n",
       "1  A team of astronauts travel through a wormhole...    Sci-Fi\n",
       "2  A detective investigates a series of murders i...  Thriller\n",
       "3  A couple falls in love during a war and strugg...   Romance\n",
       "4  A hilarious story of a man who gets stuck in a...    Comedy"
      ]
     },
     "execution_count": 10,
     "metadata": {},
     "output_type": "execute_result"
    }
   ],
   "source": [
    "# Step 2: Create Sample Dataset (Movie Plot & Genre)\n",
    "data = StringIO(\"\"\"\n",
    "plot,genre\n",
    "\"A young boy discovers he is a wizard and attends a magical school.\",Fantasy\n",
    "\"A team of astronauts travel through a wormhole in space.\",Sci-Fi\n",
    "\"A detective investigates a series of murders in a gloomy city.\",Thriller\n",
    "\"A couple falls in love during a war and struggle to stay together.\",Romance\n",
    "\"A hilarious story of a man who gets stuck in an elevator with his boss.\",Comedy\n",
    "\"A haunted house causes strange and terrifying events.\",Horror\n",
    "\"Robots take over the earth and a group of survivors fights back.\",Action\n",
    "\"A girl with cancer finds love and meaning in life.\",Drama\n",
    "\"\"\")\n",
    "\n",
    "df = pd.read_csv(data)\n",
    "df.head()\n"
   ]
  },
  {
   "cell_type": "code",
   "execution_count": 11,
   "id": "c8f633e8-16e5-40fd-af65-e9cb2acf411f",
   "metadata": {},
   "outputs": [
    {
     "data": {
      "text/plain": [
       "0     young boy discov wizard attend magic\n",
       "1            team astronaut travel wormhol\n",
       "2       detect investig seri murder gloomi\n",
       "3         coupl fall love war struggl stay\n",
       "4          hilari stori man get stuck elev\n",
       "5           haunt hous caus strang terrifi\n",
       "6    robot take earth group survivor fight\n",
       "7               girl cancer find love mean\n",
       "Name: cleaned_plot, dtype: object"
      ]
     },
     "execution_count": 11,
     "metadata": {},
     "output_type": "execute_result"
    }
   ],
   "source": [
    "# Step 3: Preprocess Text\n",
    "stop_words = set(stopwords.words(\"english\"))\n",
    "stemmer = PorterStemmer()\n",
    "\n",
    "def preprocess(text):\n",
    "    words = text.lower().split()\n",
    "    words = [stemmer.stem(w) for w in words if w.isalpha() and w not in stop_words]\n",
    "    return \" \".join(words)\n",
    "\n",
    "df['cleaned_plot'] = df['plot'].apply(preprocess)\n",
    "df['cleaned_plot']"
   ]
  },
  {
   "cell_type": "code",
   "execution_count": 12,
   "id": "e6c42bba-4b29-4937-8357-5316caabdd65",
   "metadata": {},
   "outputs": [
    {
     "data": {
      "text/plain": [
       "array([3, 6, 7, 5, 1, 4, 0, 2])"
      ]
     },
     "execution_count": 12,
     "metadata": {},
     "output_type": "execute_result"
    }
   ],
   "source": [
    "# Step 4: Vectorization and Label Encoding\n",
    "vectorizer = TfidfVectorizer()\n",
    "X = vectorizer.fit_transform(df['cleaned_plot'])\n",
    "\n",
    "# Convert genres to numeric labels\n",
    "from sklearn.preprocessing import LabelEncoder\n",
    "le = LabelEncoder()\n",
    "y = le.fit_transform(df['genre'])\n",
    "y"
   ]
  },
  {
   "cell_type": "code",
   "execution_count": 13,
   "id": "692eebe7-1e51-46f3-aa26-9e4157e19616",
   "metadata": {},
   "outputs": [
    {
     "data": {
      "text/plain": [
       "array([1, 1, 1])"
      ]
     },
     "execution_count": 13,
     "metadata": {},
     "output_type": "execute_result"
    }
   ],
   "source": [
    "# Step 5: Train-Test Split & Model Training\n",
    "X_train, X_test, y_train, y_test = train_test_split(X, y, test_size=0.3, random_state=42)\n",
    "\n",
    "model = LogisticRegression(max_iter=1000)\n",
    "model.fit(X_train, y_train)\n",
    "y_pred = model.predict(X_test)\n",
    "y_pred"
   ]
  },
  {
   "cell_type": "code",
   "execution_count": 14,
   "id": "4c10f50e-5757-4492-9e6d-d85f52f330e8",
   "metadata": {},
   "outputs": [
    {
     "name": "stdout",
     "output_type": "stream",
     "text": [
      "\n",
      "Classification Report:\n",
      "               precision    recall  f1-score   support\n",
      "\n",
      "     Fantasy       0.00      0.00      0.00       1.0\n",
      "      Horror       0.00      0.00      0.00       1.0\n",
      "      Sci-Fi       0.00      0.00      0.00       1.0\n",
      "\n",
      "   micro avg       0.00      0.00      0.00       3.0\n",
      "   macro avg       0.00      0.00      0.00       3.0\n",
      "weighted avg       0.00      0.00      0.00       3.0\n",
      "\n"
     ]
    }
   ],
   "source": [
    "import numpy as np\n",
    "\n",
    "# Get only labels present in y_test\n",
    "present_labels = np.unique(y_test)\n",
    "present_names = le.inverse_transform(present_labels)\n",
    "\n",
    "print(\"\\nClassification Report:\\n\", classification_report(y_test, y_pred, labels=present_labels, target_names=present_names))\n"
   ]
  },
  {
   "cell_type": "raw",
   "id": "4be551b2-65d7-41a4-aa95-d59bad5486a3",
   "metadata": {},
   "source": [
    "Summary:\n",
    "The goal is to classify a movie's genre based on its plot summary using NLP.\n",
    "\n",
    "A small dataset is manually created with plots and corresponding genres.\n",
    "\n",
    "Each plot is cleaned using stemming, tokenization, and stopword removal.\n",
    "\n",
    "Text data is vectorized using TfidfVectorizer to create feature vectors.\n",
    "\n",
    "Movie genres are encoded into numeric labels using LabelEncoder.\n",
    "\n",
    "The data is split into training and testing sets.\n",
    "\n",
    "A Logistic Regression model is trained on the feature vectors.\n",
    "\n",
    "Predictions are made on test data and evaluated using accuracy and metrics.\n",
    "\n",
    "Confusion matrix and classification report show model performance.\n",
    "\n",
    "This project applies NLP and machine learning for multi-class text classification.\n",
    "\n"
   ]
  },
  {
   "cell_type": "code",
   "execution_count": null,
   "id": "77979416-ffdf-4d98-ba24-97fe85eb0a93",
   "metadata": {},
   "outputs": [],
   "source": []
  }
 ],
 "metadata": {
  "kernelspec": {
   "display_name": "Python 3 (ipykernel)",
   "language": "python",
   "name": "python3"
  },
  "language_info": {
   "codemirror_mode": {
    "name": "ipython",
    "version": 3
   },
   "file_extension": ".py",
   "mimetype": "text/x-python",
   "name": "python",
   "nbconvert_exporter": "python",
   "pygments_lexer": "ipython3",
   "version": "3.12.7"
  }
 },
 "nbformat": 4,
 "nbformat_minor": 5
}
